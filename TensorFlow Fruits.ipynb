{
 "cells": [
  {
   "cell_type": "code",
   "execution_count": 2,
   "id": "f29ddd0d",
   "metadata": {},
   "outputs": [],
   "source": [
    "import tensorflow as tf\n",
    "from tensorflow.keras import modelsdels, layers\n",
    "import matplotlib.pyplot as plt"
   ]
  },
  {
   "cell_type": "code",
   "execution_count": null,
   "id": "0a9183a9",
   "metadata": {},
   "outputs": [],
   "source": [
    "image_size = \n",
    "batch_size =\n",
    "epochs = "
   ]
  },
  {
   "cell_type": "code",
   "execution_count": null,
   "id": "4620170c",
   "metadata": {},
   "outputs": [],
   "source": [
    "dataset = tf.keras.preprocessing.image_dataset_from_directory(\n",
    "    \"Diretório\",\n",
    "    shuffle=True,\n",
    "    image_size = (\"Clicar em propriedae e detalhes nas imagens e ver o tamanho\"),\n",
    "    batch_size = \n",
    ")"
   ]
  },
  {
   "cell_type": "code",
   "execution_count": null,
   "id": "21be3662",
   "metadata": {},
   "outputs": [],
   "source": [
    "plt.imshow(\"dataset[0]\")\n",
    "plt.title(\"label aqui\")\n",
    "plt.axis(\"off\")"
   ]
  },
  {
   "cell_type": "markdown",
   "id": "eff757a8",
   "metadata": {},
   "source": [
    "# Spliting dataset\n",
    "\n",
    "* 75% = Training\n",
    "* 25% = 15% Validation, 10% Test"
   ]
  },
  {
   "cell_type": "code",
   "execution_count": null,
   "id": "948f1802",
   "metadata": {},
   "outputs": [],
   "source": [
    "train_size = 0.75\n",
    "train = len(dataset)*train_size\n",
    "train_ds = dataset.take(train)"
   ]
  },
  {
   "cell_type": "code",
   "execution_count": null,
   "id": "29486b11",
   "metadata": {},
   "outputs": [],
   "source": [
    "test_ds = dataset.skip(train)"
   ]
  },
  {
   "cell_type": "code",
   "execution_count": null,
   "id": "977355cc",
   "metadata": {},
   "outputs": [],
   "source": [
    "val_size = 0.15\n",
    "val = len(dataset)*val_size\n",
    "val_ds = test_ds.take(val)"
   ]
  },
  {
   "cell_type": "code",
   "execution_count": null,
   "id": "739336f9",
   "metadata": {},
   "outputs": [],
   "source": [
    "test_ds = test_ds.skip(val)"
   ]
  },
  {
   "cell_type": "code",
   "execution_count": null,
   "id": "2159f0c0",
   "metadata": {},
   "outputs": [],
   "source": [
    "def get_df_partitions(ds, train_split=0.75,val_split=0.15, test_split=0.1, shuffle=True,shuffle_size=10000)\n",
    "    \n",
    "    ds_size = len(ds)\n",
    "    \n",
    "    if shuffle:\n",
    "        ds = ds.shuffle(shuffle_size, seed=166)\n",
    "    \n",
    "    train_size = int(ds_size * train_split)\n",
    "    val_size = int(ds_size * val_split)\n",
    "    \n",
    "    train_ds = dataset.take(train_size)\n",
    "    \n",
    "    val_ds = ds.skip(train_size).take(val_size)\n",
    "    test_ds = ds.skip(train_size).skip(val_size)\n",
    "    \n",
    "    return train_ds, val_ds, test_ds"
   ]
  },
  {
   "cell_type": "code",
   "execution_count": null,
   "id": "0430f287",
   "metadata": {},
   "outputs": [],
   "source": [
    "train_ds, val_ds, test_ds = get_df_partitions(dataset)"
   ]
  },
  {
   "cell_type": "code",
   "execution_count": null,
   "id": "d3ed627b",
   "metadata": {},
   "outputs": [],
   "source": [
    "resize_rescale = tf.keras.Sequential([\n",
    "    layers.Resizing(image_size, image_size),\n",
    "    layers.Rescaling(1.0/255),\n",
    "])"
   ]
  },
  {
   "cell_type": "code",
   "execution_count": null,
   "id": "0c3a5240",
   "metadata": {},
   "outputs": [],
   "source": [
    "data_augmentation = tf.keras.Sequential([\n",
    "    layers.RandomFlip(\"horizontal_and_vertifcal\"),\n",
    "    layers.RandomRotation(0.2),\n",
    "])"
   ]
  },
  {
   "cell_type": "code",
   "execution_count": null,
   "id": "37b0f4bd",
   "metadata": {},
   "outputs": [],
   "source": []
  }
 ],
 "metadata": {
  "kernelspec": {
   "display_name": "Python 3 (ipykernel)",
   "language": "python",
   "name": "python3"
  },
  "language_info": {
   "codemirror_mode": {
    "name": "ipython",
    "version": 3
   },
   "file_extension": ".py",
   "mimetype": "text/x-python",
   "name": "python",
   "nbconvert_exporter": "python",
   "pygments_lexer": "ipython3",
   "version": "3.10.10"
  }
 },
 "nbformat": 4,
 "nbformat_minor": 5
}
